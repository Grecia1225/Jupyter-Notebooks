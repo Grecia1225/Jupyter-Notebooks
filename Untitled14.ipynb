{
 "cells": [
  {
   "cell_type": "code",
   "execution_count": 5,
   "id": "04cf7a2b-c0f6-4785-8833-02e450b4a3ea",
   "metadata": {},
   "outputs": [
    {
     "name": "stdin",
     "output_type": "stream",
     "text": [
      "enter side: 3\n",
      "enter side: 4\n",
      "enter side: 5\n"
     ]
    },
    {
     "name": "stdout",
     "output_type": "stream",
     "text": [
      "area of triangle is:6.0\n"
     ]
    }
   ],
   "source": [
    "import sys\n",
    "#need to access command line arguments\n",
    "import math\n",
    "#to use math.sqrt()(square root function)\n",
    "#float()converts the argument from string to number(because command line comes as text)\n",
    "s1=float(input('enter side:'))\n",
    "s2=float(input('enter side:'))\n",
    "s3=float(input('enter side:'))\n",
    "#heron's fromula is used to calculate the area of triangle when 3 sides are given\n",
    "#1.calculate the semi-perimeter of the triangle.\n",
    "s=(s1+s2+s3)/2\n",
    "#2.area\n",
    "area=math.sqrt(s*(s-s1)*(s-s2)*(s-s3))\n",
    "print(f\"area of triangle is:{area}\")"
   ]
  },
  {
   "cell_type": "code",
   "execution_count": 6,
   "id": "7236c68f-2dc8-4e3e-9da6-18887e322033",
   "metadata": {},
   "outputs": [
    {
     "name": "stdout",
     "output_type": "stream",
     "text": [
      "the area of triangle:6.0\n"
     ]
    }
   ],
   "source": [
    "import sys\n",
    "import math \n",
    "s1=3\n",
    "s2=4\n",
    "s3=5\n",
    "s=(s1+s2+s3)/2\n",
    "area=math.sqrt(s*(s-s1)*(s-s2)*(s-s3))\n",
    "print(f'the area of triangle:{area}')"
   ]
  },
  {
   "cell_type": "code",
   "execution_count": null,
   "id": "0dbfc5ee-0196-455a-8556-e1be69562027",
   "metadata": {},
   "outputs": [],
   "source": []
  }
 ],
 "metadata": {
  "kernelspec": {
   "display_name": "Python [conda env:base] *",
   "language": "python",
   "name": "conda-base-py"
  },
  "language_info": {
   "codemirror_mode": {
    "name": "ipython",
    "version": 3
   },
   "file_extension": ".py",
   "mimetype": "text/x-python",
   "name": "python",
   "nbconvert_exporter": "python",
   "pygments_lexer": "ipython3",
   "version": "3.13.5"
  }
 },
 "nbformat": 4,
 "nbformat_minor": 5
}
